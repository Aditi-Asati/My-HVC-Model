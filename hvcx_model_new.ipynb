{
 "cells": [
  {
   "cell_type": "markdown",
   "metadata": {},
   "source": [
    "# Single Neuron Conductance model of HVCX Neurons"
   ]
  },
  {
   "cell_type": "code",
   "execution_count": 19,
   "metadata": {},
   "outputs": [],
   "source": [
    "%matplotlib inline\n",
    "from brian2 import *\n",
    "import numpy as np\n",
    "import pandas as pd\n",
    "import hvc \n",
    "import simulator\n",
    "import matplotlib.pyplot as plt\n",
    "import os"
   ]
  },
  {
   "cell_type": "code",
   "execution_count": 20,
   "metadata": {},
   "outputs": [],
   "source": [
    "figdir = \"plots/hvc_x/\""
   ]
  },
  {
   "cell_type": "markdown",
   "metadata": {},
   "source": [
    "### Defining the Conductance Model"
   ]
  },
  {
   "cell_type": "markdown",
   "metadata": {},
   "source": [
    "`simulate_hvc` takes the magnitude of the injected stimulus and the values of model parameters (if any)"
   ]
  },
  {
   "cell_type": "code",
   "execution_count": 21,
   "metadata": {},
   "outputs": [
    {
     "ename": "BrianObjectException",
     "evalue": "Error encountered with object named 'neurongroup_6_stateupdater'.\nObject was created here (most recent call only, full details in debug log):\n  File 'c:\\Users\\HP\\Desktop\\my_hvc_model\\simulator.py', line 110, in simulate_hvc\n    \n\nAn error occurred when preparing an object. (See above for original error message and traceback.)",
     "output_type": "error",
     "traceback": [
      "\u001b[1;31m---------------------------------------------------------------------------\u001b[0m",
      "\u001b[1;31mKeyError\u001b[0m                                  Traceback (most recent call last)",
      "File \u001b[1;32mc:\\Users\\HP\\AppData\\Local\\Programs\\Python\\Python310\\lib\\site-packages\\brian2\\core\\network.py:892\u001b[0m, in \u001b[0;36mNetwork.before_run\u001b[1;34m(self, run_namespace)\u001b[0m\n\u001b[0;32m    891\u001b[0m \u001b[39mtry\u001b[39;00m:\n\u001b[1;32m--> 892\u001b[0m     obj\u001b[39m.\u001b[39;49mbefore_run(run_namespace)\n\u001b[0;32m    893\u001b[0m \u001b[39mexcept\u001b[39;00m \u001b[39mException\u001b[39;00m \u001b[39mas\u001b[39;00m ex:\n",
      "File \u001b[1;32mc:\\Users\\HP\\AppData\\Local\\Programs\\Python\\Python310\\lib\\site-packages\\brian2\\groups\\group.py:1137\u001b[0m, in \u001b[0;36mCodeRunner.before_run\u001b[1;34m(self, run_namespace)\u001b[0m\n\u001b[0;32m   1136\u001b[0m \u001b[39mdef\u001b[39;00m \u001b[39mbefore_run\u001b[39m(\u001b[39mself\u001b[39m, run_namespace):\n\u001b[1;32m-> 1137\u001b[0m     \u001b[39mself\u001b[39;49m\u001b[39m.\u001b[39;49mcreate_code_objects(run_namespace)\n\u001b[0;32m   1138\u001b[0m     \u001b[39msuper\u001b[39m(CodeRunner, \u001b[39mself\u001b[39m)\u001b[39m.\u001b[39mbefore_run(run_namespace)\n",
      "File \u001b[1;32mc:\\Users\\HP\\AppData\\Local\\Programs\\Python\\Python310\\lib\\site-packages\\brian2\\groups\\group.py:1130\u001b[0m, in \u001b[0;36mCodeRunner.create_code_objects\u001b[1;34m(self, run_namespace)\u001b[0m\n\u001b[0;32m   1127\u001b[0m \u001b[39mdef\u001b[39;00m \u001b[39mcreate_code_objects\u001b[39m(\u001b[39mself\u001b[39m, run_namespace):\n\u001b[0;32m   1128\u001b[0m     \u001b[39m# By default, we only have one code object for each CodeRunner.\u001b[39;00m\n\u001b[0;32m   1129\u001b[0m     \u001b[39m# Overwrite this function to use more than one.\u001b[39;00m\n\u001b[1;32m-> 1130\u001b[0m     code_object \u001b[39m=\u001b[39m \u001b[39mself\u001b[39;49m\u001b[39m.\u001b[39;49mcreate_default_code_object(run_namespace)\n\u001b[0;32m   1131\u001b[0m     \u001b[39mif\u001b[39;00m code_object:\n",
      "File \u001b[1;32mc:\\Users\\HP\\AppData\\Local\\Programs\\Python\\Python310\\lib\\site-packages\\brian2\\groups\\group.py:1102\u001b[0m, in \u001b[0;36mCodeRunner.create_default_code_object\u001b[1;34m(self, run_namespace)\u001b[0m\n\u001b[0;32m   1101\u001b[0m \u001b[39mdef\u001b[39;00m \u001b[39mcreate_default_code_object\u001b[39m(\u001b[39mself\u001b[39m, run_namespace):\n\u001b[1;32m-> 1102\u001b[0m     \u001b[39mself\u001b[39;49m\u001b[39m.\u001b[39;49mupdate_abstract_code(run_namespace\u001b[39m=\u001b[39;49mrun_namespace)\n\u001b[0;32m   1103\u001b[0m     \u001b[39m# If the CodeRunner has variables, add them\u001b[39;00m\n",
      "File \u001b[1;32mc:\\Users\\HP\\AppData\\Local\\Programs\\Python\\Python310\\lib\\site-packages\\brian2\\groups\\neurongroup.py:232\u001b[0m, in \u001b[0;36mStateUpdater.update_abstract_code\u001b[1;34m(self, run_namespace)\u001b[0m\n\u001b[0;32m    229\u001b[0m \u001b[39mdef\u001b[39;00m \u001b[39mupdate_abstract_code\u001b[39m(\u001b[39mself\u001b[39m, run_namespace):\n\u001b[0;32m    230\u001b[0m \n\u001b[0;32m    231\u001b[0m     \u001b[39m# Update the not_refractory variable for the refractory period mechanism\u001b[39;00m\n\u001b[1;32m--> 232\u001b[0m     \u001b[39mself\u001b[39m\u001b[39m.\u001b[39mabstract_code \u001b[39m=\u001b[39m \u001b[39mself\u001b[39;49m\u001b[39m.\u001b[39;49m_get_refractory_code(run_namespace\u001b[39m=\u001b[39;49mrun_namespace)\n\u001b[0;32m    234\u001b[0m     \u001b[39m# Get the names used in the refractory code\u001b[39;00m\n",
      "File \u001b[1;32mc:\\Users\\HP\\AppData\\Local\\Programs\\Python\\Python310\\lib\\site-packages\\brian2\\groups\\neurongroup.py:203\u001b[0m, in \u001b[0;36mStateUpdater._get_refractory_code\u001b[1;34m(self, run_namespace)\u001b[0m\n\u001b[0;32m    202\u001b[0m identifiers \u001b[39m=\u001b[39m get_identifiers(ref)\n\u001b[1;32m--> 203\u001b[0m variables \u001b[39m=\u001b[39m \u001b[39mself\u001b[39;49m\u001b[39m.\u001b[39;49mgroup\u001b[39m.\u001b[39;49mresolve_all(identifiers,\n\u001b[0;32m    204\u001b[0m                                    run_namespace,\n\u001b[0;32m    205\u001b[0m                                    user_identifiers\u001b[39m=\u001b[39;49midentifiers)\n\u001b[0;32m    206\u001b[0m dims \u001b[39m=\u001b[39m parse_expression_dimensions(\u001b[39mstr\u001b[39m(ref), variables)\n",
      "File \u001b[1;32mc:\\Users\\HP\\AppData\\Local\\Programs\\Python\\Python310\\lib\\site-packages\\brian2\\groups\\group.py:731\u001b[0m, in \u001b[0;36mGroup.resolve_all\u001b[1;34m(self, identifiers, run_namespace, user_identifiers, additional_variables)\u001b[0m\n\u001b[0;32m    730\u001b[0m \u001b[39mfor\u001b[39;00m identifier \u001b[39min\u001b[39;00m identifiers:\n\u001b[1;32m--> 731\u001b[0m     resolved[identifier] \u001b[39m=\u001b[39m \u001b[39mself\u001b[39;49m\u001b[39m.\u001b[39;49m_resolve(identifier,\n\u001b[0;32m    732\u001b[0m                                          user_identifier\u001b[39m=\u001b[39;49midentifier \u001b[39min\u001b[39;49;00m user_identifiers,\n\u001b[0;32m    733\u001b[0m                                          additional_variables\u001b[39m=\u001b[39;49madditional_variables,\n\u001b[0;32m    734\u001b[0m                                          run_namespace\u001b[39m=\u001b[39;49mrun_namespace)\n\u001b[0;32m    735\u001b[0m \u001b[39mreturn\u001b[39;00m resolved\n",
      "File \u001b[1;32mc:\\Users\\HP\\AppData\\Local\\Programs\\Python\\Python310\\lib\\site-packages\\brian2\\groups\\group.py:691\u001b[0m, in \u001b[0;36mGroup._resolve\u001b[1;34m(self, identifier, run_namespace, user_identifier, additional_variables)\u001b[0m\n\u001b[0;32m    689\u001b[0m \u001b[39m# We did not find the name internally, try to resolve it in the external\u001b[39;00m\n\u001b[0;32m    690\u001b[0m \u001b[39m# namespace\u001b[39;00m\n\u001b[1;32m--> 691\u001b[0m \u001b[39mreturn\u001b[39;00m \u001b[39mself\u001b[39;49m\u001b[39m.\u001b[39;49m_resolve_external(identifier, run_namespace\u001b[39m=\u001b[39;49mrun_namespace)\n",
      "File \u001b[1;32mc:\\Users\\HP\\AppData\\Local\\Programs\\Python\\Python310\\lib\\site-packages\\brian2\\groups\\group.py:814\u001b[0m, in \u001b[0;36mGroup._resolve_external\u001b[1;34m(self, identifier, run_namespace, user_identifier, internal_variable)\u001b[0m\n\u001b[0;32m    813\u001b[0m             error_msg \u001b[39m=\u001b[39m \u001b[39mf\u001b[39m\u001b[39m'\u001b[39m\u001b[39mThe identifier \u001b[39m\u001b[39m\"\u001b[39m\u001b[39m{\u001b[39;00midentifier\u001b[39m}\u001b[39;00m\u001b[39m\"\u001b[39m\u001b[39m could not be resolved.\u001b[39m\u001b[39m'\u001b[39m\n\u001b[1;32m--> 814\u001b[0m         \u001b[39mraise\u001b[39;00m \u001b[39mKeyError\u001b[39;00m(error_msg)\n\u001b[0;32m    816\u001b[0m \u001b[39melif\u001b[39;00m \u001b[39mlen\u001b[39m(matches) \u001b[39m>\u001b[39m \u001b[39m1\u001b[39m:\n\u001b[0;32m    817\u001b[0m     \u001b[39m# Possibly, all matches refer to the same object\u001b[39;00m\n",
      "\u001b[1;31mKeyError\u001b[0m: 'The identifier \"v\" could not be resolved.'",
      "\nThe above exception was the direct cause of the following exception:\n",
      "\u001b[1;31mBrianObjectException\u001b[0m                      Traceback (most recent call last)",
      "\u001b[1;32mc:\\Users\\HP\\Desktop\\my_hvc_model\\hvcx_model_pro.ipynb Cell 6\u001b[0m in \u001b[0;36m<cell line: 1>\u001b[1;34m()\u001b[0m\n\u001b[1;32m----> <a href='vscode-notebook-cell:/c%3A/Users/HP/Desktop/my_hvc_model/hvcx_model_pro.ipynb#W5sZmlsZQ%3D%3D?line=0'>1</a>\u001b[0m G \u001b[39m=\u001b[39m simulator\u001b[39m.\u001b[39;49msimulate_hvc(\u001b[39m\"\u001b[39;49m\u001b[39mx\u001b[39;49m\u001b[39m\"\u001b[39;49m, \u001b[39m150\u001b[39;49m)\n",
      "File \u001b[1;32mc:\\Users\\HP\\Desktop\\my_hvc_model\\simulator.py:122\u001b[0m, in \u001b[0;36msimulate_hvc\u001b[1;34m(kind, mag_current, config_file)\u001b[0m\n\u001b[0;32m    120\u001b[0m \u001b[39m#Record membrane potential V as it evolves during the simulation \u001b[39;00m\n\u001b[0;32m    121\u001b[0m M \u001b[39m=\u001b[39m StateMonitor(N, [\u001b[39m\"\u001b[39m\u001b[39mV\u001b[39m\u001b[39m\"\u001b[39m], record\u001b[39m=\u001b[39m\u001b[39mTrue\u001b[39;00m)\n\u001b[1;32m--> 122\u001b[0m run(duration\u001b[39m*\u001b[39;49msecond)\n\u001b[0;32m    123\u001b[0m \u001b[39mreturn\u001b[39;00m M\n",
      "File \u001b[1;32mc:\\Users\\HP\\AppData\\Local\\Programs\\Python\\Python310\\lib\\site-packages\\brian2\\units\\fundamentalunits.py:2462\u001b[0m, in \u001b[0;36mcheck_units.<locals>.do_check_units.<locals>.new_f\u001b[1;34m(*args, **kwds)\u001b[0m\n\u001b[0;32m   2455\u001b[0m             error_message \u001b[39m=\u001b[39m (\u001b[39mf\u001b[39m\u001b[39m\"\u001b[39m\u001b[39mFunction \u001b[39m\u001b[39m'\u001b[39m\u001b[39m{\u001b[39;00mf\u001b[39m.\u001b[39m\u001b[39m__name__\u001b[39m\u001b[39m}\u001b[39;00m\u001b[39m'\u001b[39m\u001b[39m \u001b[39m\u001b[39m\"\u001b[39m\n\u001b[0;32m   2456\u001b[0m                              \u001b[39mf\u001b[39m\u001b[39m\"\u001b[39m\u001b[39mexpected a quantitity with unit \u001b[39m\u001b[39m\"\u001b[39m\n\u001b[0;32m   2457\u001b[0m                              \u001b[39mf\u001b[39m\u001b[39m\"\u001b[39m\u001b[39m{\u001b[39;00munit\u001b[39m}\u001b[39;00m\u001b[39m for argument \u001b[39m\u001b[39m'\u001b[39m\u001b[39m{\u001b[39;00mk\u001b[39m}\u001b[39;00m\u001b[39m'\u001b[39m\u001b[39m but got \u001b[39m\u001b[39m\"\u001b[39m\n\u001b[0;32m   2458\u001b[0m                              \u001b[39mf\u001b[39m\u001b[39m\"\u001b[39m\u001b[39m'\u001b[39m\u001b[39m{\u001b[39;00mvalue\u001b[39m}\u001b[39;00m\u001b[39m'\u001b[39m\u001b[39m\"\u001b[39m)\n\u001b[0;32m   2459\u001b[0m             \u001b[39mraise\u001b[39;00m DimensionMismatchError(error_message,\n\u001b[0;32m   2460\u001b[0m                                          get_dimensions(newkeyset[k]))\n\u001b[1;32m-> 2462\u001b[0m result \u001b[39m=\u001b[39m f(\u001b[39m*\u001b[39margs, \u001b[39m*\u001b[39m\u001b[39m*\u001b[39mkwds)\n\u001b[0;32m   2463\u001b[0m \u001b[39mif\u001b[39;00m \u001b[39m'\u001b[39m\u001b[39mresult\u001b[39m\u001b[39m'\u001b[39m \u001b[39min\u001b[39;00m au:\n\u001b[0;32m   2464\u001b[0m     \u001b[39mif\u001b[39;00m \u001b[39misinstance\u001b[39m(au[\u001b[39m'\u001b[39m\u001b[39mresult\u001b[39m\u001b[39m'\u001b[39m], Callable) \u001b[39mand\u001b[39;00m au[\u001b[39m'\u001b[39m\u001b[39mresult\u001b[39m\u001b[39m'\u001b[39m] \u001b[39m!=\u001b[39m \u001b[39mbool\u001b[39m:\n",
      "File \u001b[1;32mc:\\Users\\HP\\AppData\\Local\\Programs\\Python\\Python310\\lib\\site-packages\\brian2\\core\\magic.py:377\u001b[0m, in \u001b[0;36mrun\u001b[1;34m(duration, report, report_period, namespace, profile, level)\u001b[0m\n\u001b[0;32m    310\u001b[0m \u001b[39m@check_units\u001b[39m(duration\u001b[39m=\u001b[39msecond, report_period\u001b[39m=\u001b[39msecond)\n\u001b[0;32m    311\u001b[0m \u001b[39mdef\u001b[39;00m \u001b[39mrun\u001b[39m(duration, report\u001b[39m=\u001b[39m\u001b[39mNone\u001b[39;00m, report_period\u001b[39m=\u001b[39m\u001b[39m10\u001b[39m\u001b[39m*\u001b[39msecond, namespace\u001b[39m=\u001b[39m\u001b[39mNone\u001b[39;00m,\n\u001b[0;32m    312\u001b[0m         profile\u001b[39m=\u001b[39m\u001b[39mNone\u001b[39;00m, level\u001b[39m=\u001b[39m\u001b[39m0\u001b[39m):\n\u001b[0;32m    313\u001b[0m     \u001b[39m\"\"\"\u001b[39;00m\n\u001b[0;32m    314\u001b[0m \u001b[39m    run(duration, report=None, report_period=10*second, namespace=None, level=0)\u001b[39;00m\n\u001b[0;32m    315\u001b[0m \u001b[39m    \u001b[39;00m\n\u001b[1;32m   (...)\u001b[0m\n\u001b[0;32m    375\u001b[0m \u001b[39m        intended use. See `MagicNetwork` for more details.\u001b[39;00m\n\u001b[0;32m    376\u001b[0m \u001b[39m    \"\"\"\u001b[39;00m\n\u001b[1;32m--> 377\u001b[0m     \u001b[39mreturn\u001b[39;00m magic_network\u001b[39m.\u001b[39;49mrun(duration, report\u001b[39m=\u001b[39;49mreport, report_period\u001b[39m=\u001b[39;49mreport_period,\n\u001b[0;32m    378\u001b[0m                              namespace\u001b[39m=\u001b[39;49mnamespace, profile\u001b[39m=\u001b[39;49mprofile, level\u001b[39m=\u001b[39;49m\u001b[39m2\u001b[39;49m\u001b[39m+\u001b[39;49mlevel)\n",
      "File \u001b[1;32mc:\\Users\\HP\\AppData\\Local\\Programs\\Python\\Python310\\lib\\site-packages\\brian2\\core\\magic.py:230\u001b[0m, in \u001b[0;36mMagicNetwork.run\u001b[1;34m(self, duration, report, report_period, namespace, profile, level)\u001b[0m\n\u001b[0;32m    227\u001b[0m \u001b[39mdef\u001b[39;00m \u001b[39mrun\u001b[39m(\u001b[39mself\u001b[39m, duration, report\u001b[39m=\u001b[39m\u001b[39mNone\u001b[39;00m, report_period\u001b[39m=\u001b[39m\u001b[39m10\u001b[39m\u001b[39m*\u001b[39msecond,\n\u001b[0;32m    228\u001b[0m         namespace\u001b[39m=\u001b[39m\u001b[39mNone\u001b[39;00m, profile\u001b[39m=\u001b[39m\u001b[39mNone\u001b[39;00m, level\u001b[39m=\u001b[39m\u001b[39m0\u001b[39m):\n\u001b[0;32m    229\u001b[0m     \u001b[39mself\u001b[39m\u001b[39m.\u001b[39m_update_magic_objects(level\u001b[39m=\u001b[39mlevel\u001b[39m+\u001b[39m\u001b[39m1\u001b[39m)\n\u001b[1;32m--> 230\u001b[0m     Network\u001b[39m.\u001b[39;49mrun(\u001b[39mself\u001b[39;49m, duration, report\u001b[39m=\u001b[39;49mreport, report_period\u001b[39m=\u001b[39;49mreport_period,\n\u001b[0;32m    231\u001b[0m                 namespace\u001b[39m=\u001b[39;49mnamespace, profile\u001b[39m=\u001b[39;49mprofile, level\u001b[39m=\u001b[39;49mlevel\u001b[39m+\u001b[39;49m\u001b[39m1\u001b[39;49m)\n",
      "File \u001b[1;32mc:\\Users\\HP\\AppData\\Local\\Programs\\Python\\Python310\\lib\\site-packages\\brian2\\core\\base.py:293\u001b[0m, in \u001b[0;36mdevice_override.<locals>.device_override_decorator.<locals>.device_override_decorated_function\u001b[1;34m(*args, **kwds)\u001b[0m\n\u001b[0;32m    291\u001b[0m     \u001b[39mreturn\u001b[39;00m \u001b[39mgetattr\u001b[39m(curdev, name)(\u001b[39m*\u001b[39margs, \u001b[39m*\u001b[39m\u001b[39m*\u001b[39mkwds)\n\u001b[0;32m    292\u001b[0m \u001b[39melse\u001b[39;00m:\n\u001b[1;32m--> 293\u001b[0m     \u001b[39mreturn\u001b[39;00m func(\u001b[39m*\u001b[39margs, \u001b[39m*\u001b[39m\u001b[39m*\u001b[39mkwds)\n",
      "File \u001b[1;32mc:\\Users\\HP\\AppData\\Local\\Programs\\Python\\Python310\\lib\\site-packages\\brian2\\units\\fundamentalunits.py:2462\u001b[0m, in \u001b[0;36mcheck_units.<locals>.do_check_units.<locals>.new_f\u001b[1;34m(*args, **kwds)\u001b[0m\n\u001b[0;32m   2455\u001b[0m             error_message \u001b[39m=\u001b[39m (\u001b[39mf\u001b[39m\u001b[39m\"\u001b[39m\u001b[39mFunction \u001b[39m\u001b[39m'\u001b[39m\u001b[39m{\u001b[39;00mf\u001b[39m.\u001b[39m\u001b[39m__name__\u001b[39m\u001b[39m}\u001b[39;00m\u001b[39m'\u001b[39m\u001b[39m \u001b[39m\u001b[39m\"\u001b[39m\n\u001b[0;32m   2456\u001b[0m                              \u001b[39mf\u001b[39m\u001b[39m\"\u001b[39m\u001b[39mexpected a quantitity with unit \u001b[39m\u001b[39m\"\u001b[39m\n\u001b[0;32m   2457\u001b[0m                              \u001b[39mf\u001b[39m\u001b[39m\"\u001b[39m\u001b[39m{\u001b[39;00munit\u001b[39m}\u001b[39;00m\u001b[39m for argument \u001b[39m\u001b[39m'\u001b[39m\u001b[39m{\u001b[39;00mk\u001b[39m}\u001b[39;00m\u001b[39m'\u001b[39m\u001b[39m but got \u001b[39m\u001b[39m\"\u001b[39m\n\u001b[0;32m   2458\u001b[0m                              \u001b[39mf\u001b[39m\u001b[39m\"\u001b[39m\u001b[39m'\u001b[39m\u001b[39m{\u001b[39;00mvalue\u001b[39m}\u001b[39;00m\u001b[39m'\u001b[39m\u001b[39m\"\u001b[39m)\n\u001b[0;32m   2459\u001b[0m             \u001b[39mraise\u001b[39;00m DimensionMismatchError(error_message,\n\u001b[0;32m   2460\u001b[0m                                          get_dimensions(newkeyset[k]))\n\u001b[1;32m-> 2462\u001b[0m result \u001b[39m=\u001b[39m f(\u001b[39m*\u001b[39margs, \u001b[39m*\u001b[39m\u001b[39m*\u001b[39mkwds)\n\u001b[0;32m   2463\u001b[0m \u001b[39mif\u001b[39;00m \u001b[39m'\u001b[39m\u001b[39mresult\u001b[39m\u001b[39m'\u001b[39m \u001b[39min\u001b[39;00m au:\n\u001b[0;32m   2464\u001b[0m     \u001b[39mif\u001b[39;00m \u001b[39misinstance\u001b[39m(au[\u001b[39m'\u001b[39m\u001b[39mresult\u001b[39m\u001b[39m'\u001b[39m], Callable) \u001b[39mand\u001b[39;00m au[\u001b[39m'\u001b[39m\u001b[39mresult\u001b[39m\u001b[39m'\u001b[39m] \u001b[39m!=\u001b[39m \u001b[39mbool\u001b[39m:\n",
      "File \u001b[1;32mc:\\Users\\HP\\AppData\\Local\\Programs\\Python\\Python310\\lib\\site-packages\\brian2\\core\\network.py:1007\u001b[0m, in \u001b[0;36mNetwork.run\u001b[1;34m(self, duration, report, report_period, namespace, profile, level)\u001b[0m\n\u001b[0;32m   1004\u001b[0m \u001b[39mif\u001b[39;00m namespace \u001b[39mis\u001b[39;00m \u001b[39mNone\u001b[39;00m:\n\u001b[0;32m   1005\u001b[0m     namespace \u001b[39m=\u001b[39m get_local_namespace(level\u001b[39m=\u001b[39mlevel\u001b[39m+\u001b[39m\u001b[39m3\u001b[39m)\n\u001b[1;32m-> 1007\u001b[0m \u001b[39mself\u001b[39;49m\u001b[39m.\u001b[39;49mbefore_run(namespace)\n\u001b[0;32m   1009\u001b[0m \u001b[39mif\u001b[39;00m \u001b[39mlen\u001b[39m(all_objects) \u001b[39m==\u001b[39m \u001b[39m0\u001b[39m:\n\u001b[0;32m   1010\u001b[0m     \u001b[39mreturn\u001b[39;00m  \u001b[39m# TODO: raise an error? warning?\u001b[39;00m\n",
      "File \u001b[1;32mc:\\Users\\HP\\AppData\\Local\\Programs\\Python\\Python310\\lib\\site-packages\\brian2\\core\\base.py:293\u001b[0m, in \u001b[0;36mdevice_override.<locals>.device_override_decorator.<locals>.device_override_decorated_function\u001b[1;34m(*args, **kwds)\u001b[0m\n\u001b[0;32m    291\u001b[0m     \u001b[39mreturn\u001b[39;00m \u001b[39mgetattr\u001b[39m(curdev, name)(\u001b[39m*\u001b[39margs, \u001b[39m*\u001b[39m\u001b[39m*\u001b[39mkwds)\n\u001b[0;32m    292\u001b[0m \u001b[39melse\u001b[39;00m:\n\u001b[1;32m--> 293\u001b[0m     \u001b[39mreturn\u001b[39;00m func(\u001b[39m*\u001b[39margs, \u001b[39m*\u001b[39m\u001b[39m*\u001b[39mkwds)\n",
      "File \u001b[1;32mc:\\Users\\HP\\AppData\\Local\\Programs\\Python\\Python310\\lib\\site-packages\\brian2\\core\\network.py:894\u001b[0m, in \u001b[0;36mNetwork.before_run\u001b[1;34m(self, run_namespace)\u001b[0m\n\u001b[0;32m    892\u001b[0m             obj\u001b[39m.\u001b[39mbefore_run(run_namespace)\n\u001b[0;32m    893\u001b[0m         \u001b[39mexcept\u001b[39;00m \u001b[39mException\u001b[39;00m \u001b[39mas\u001b[39;00m ex:\n\u001b[1;32m--> 894\u001b[0m             \u001b[39mraise\u001b[39;00m BrianObjectException(\u001b[39m\"\u001b[39m\u001b[39mAn error occurred when preparing an object.\u001b[39m\u001b[39m\"\u001b[39m, obj) \u001b[39mfrom\u001b[39;00m \u001b[39mex\u001b[39;00m\n\u001b[0;32m    896\u001b[0m \u001b[39m# Check that no object has been run as part of another network before\u001b[39;00m\n\u001b[0;32m    897\u001b[0m \u001b[39mfor\u001b[39;00m obj \u001b[39min\u001b[39;00m all_objects:\n",
      "\u001b[1;31mBrianObjectException\u001b[0m: Error encountered with object named 'neurongroup_6_stateupdater'.\nObject was created here (most recent call only, full details in debug log):\n  File 'c:\\Users\\HP\\Desktop\\my_hvc_model\\simulator.py', line 110, in simulate_hvc\n    \n\nAn error occurred when preparing an object. (See above for original error message and traceback.)"
     ]
    }
   ],
   "source": [
    "G = simulator.simulate_hvc(\"x\", 150) \n",
    "# Time = G.t/ms; Voltage = G.V[0]/ms\n",
    "# plt.figure(figsize = (8,5))\n",
    "# plt.plot(Time,Voltage)\n",
    "# # plt.xlim([0, 1000])\n",
    "# plt.title(\"$I_{app} = 150pA$\")\n",
    "# plt.xlabel('$t\\ (ms)$')\n",
    "# plt.ylabel('$V\\ (mV)$')\n",
    "# plt.show()\n",
    "# plt.savefig(os.path.join(figdir, \"fig_sim_1\"))\n"
   ]
  }
 ],
 "metadata": {
  "kernelspec": {
   "display_name": "Python 3.10.2 64-bit",
   "language": "python",
   "name": "python3"
  },
  "language_info": {
   "codemirror_mode": {
    "name": "ipython",
    "version": 3
   },
   "file_extension": ".py",
   "mimetype": "text/x-python",
   "name": "python",
   "nbconvert_exporter": "python",
   "pygments_lexer": "ipython3",
   "version": "3.10.2"
  },
  "orig_nbformat": 4,
  "vscode": {
   "interpreter": {
    "hash": "a9cff5a362bc38ef45d817ae74b1af54d6a076e3d773891282bce078b815ba34"
   }
  }
 },
 "nbformat": 4,
 "nbformat_minor": 2
}
