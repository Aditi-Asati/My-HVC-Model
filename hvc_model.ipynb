{
 "cells": [
  {
   "cell_type": "code",
   "execution_count": 1,
   "metadata": {},
   "outputs": [],
   "source": [
    "%matplotlib inline\n",
    "import matplotlib.pyplot as plt\n",
    "import hvc\n",
    "import brian2 as b2\n"
   ]
  },
  {
   "cell_type": "code",
   "execution_count": 12,
   "metadata": {},
   "outputs": [],
   "source": [
    "eqs = '''\n",
    "Iapp = curr_in(t): ampere\n",
    "\n",
    "dV/dt = (-Il -Ik -Ina -Inap -Ia -Ical -Icat -Isk -Im -Ih + Iapp)/C_m : volt\n",
    "\n",
    "Il = gl*(v-El) : ampere\n",
    "\n",
    "Ik = gk*(n**4)*(v-Ek) : ampere\n",
    "ninf = (1.0+exp((v-theta_n)/sigma_n))**(-1) : 1\n",
    "tau_n = tau_n_bar*(cosh((v - theta_n)/(2*sigma_n)))**(-1) : second\n",
    "dn/dt = (ninf - n)/(tau_n * w_tau_h) : 1\n",
    "\n",
    "Ina = gna*(minf**3)*h*(v-Ena) : ampere\n",
    "alpha_h = 0.128*exp((v+(50.0*mV))/(-18.0*mV)) : 1\n",
    "beta_h = 4.0/(1.0+exp((v+(27.0*mV))/(-5.0*mV))) : 1\n",
    "hinf = alpha_h/(alpha_h+beta_h) : 1\n",
    "tau_h = (1.2*ms)/(alpha_h+beta_h) : second\n",
    "minf = (1.0+exp((v-theta_m)/sigma_m))**(-1) : 1\n",
    "dh/dt = (hinf - h)/tau_h : 1\n",
    "\n",
    "Inap = gnap*mpinf*hp*(v-Ena) : ampere\n",
    "mpinf = (1.0+exp((v-theta_mp)/sigma_mp))**(-1) : 1\n",
    "hpinf = (1.0+exp((v-theta_hp)/sigma_hp))**(-1) : 1\n",
    "dhp/dt = (hpinf - hp)/tau_hp : 1\n",
    "tau_hp = tau_hp_bar*(cosh((v-theta_hp)/(2.0*sigma_hp)))**(-1) : second\n",
    "\n",
    "Ia = ga*ainf*e_gate*(v-Ek) : ampere\n",
    "ainf = (1.0+exp((v-theta_a)/sigma_a))**(-1) : 1\n",
    "einf = (1.0+exp((v-theta_e)/sigma_e))**(-1) : 1\n",
    "de_gate/dt = (einf - e_gate)/tau_e : 1\n",
    "\n",
    "Ical = gcal*v*(sinf**2)*(ca_ex/(1.0-exp(2.0*v*F/(R*T))))/mmolar : ampere\n",
    "sinf = (1.0+exp((v-theta_s)/sigma_s))**(-1) : 1\n",
    "\n",
    "Icat = gcat*v*(atinf**3)*(btinf**3)*(ca_ex/(1.0-exp(2*F*v/(R*T))))/mmolar : ampere\n",
    "atinf = (1.0+exp((v-theta_at)/sigma_at))**(-1) : 1\n",
    "btinf = (1.0+exp((rt-theta_bt)/sigma_bt))**(-1) - (1.0+exp((-theta_bt)/sigma_bt))**(-1) : 1\n",
    "rtinf = (1.0*mV)*(1.0+exp((v-theta_rt)/sigma_rt))**(-1) : volt\n",
    "drt/dt = (rtinf - rt)/tau_rt : volt\n",
    "tau_rt = tau_r0 + (tau_r1*(1+exp((v-theta_rrt)/sigma_rrt))**(-1)) : second\n",
    "\n",
    "Isk = gsk*kinf*(v-Ek) : ampere\n",
    "kinf = (ca_in**2)/((ca_in**2) + (ks**2)) : 1\n",
    "dca_in/dt = (-f*(eps*(Ical+Icat) + kca*(ca_in - bca))) : mmolar\n",
    "\n",
    "Im = gm*z*(v-Ek) : ampere\n",
    "zinf = (1.0+exp(-(v-theta_z)/(sigma_z)))**(-1) : 1\n",
    "dz/dt = (zinf - z)/tau_z : 1\n",
    "\n",
    "Ih = gh*((kr*rf) + ((1-kr)*rs))*(v-Eh) : ampere\n",
    "drf/dt = (rfinf-rf)/tau_rf : 1\n",
    "rfinf = (1.0+exp((v-theta_rf)/sigma_rf))**(-1) : 1\n",
    "tau_rf = (prf*ms)*(((-7.4/mV)*(v+(70.0*mV))/(exp((v+(70.0*mV))/(-0.8*mV))-1))+(65.0*exp((v+(56.0*mV))/(-23.0*mV))))**(-1) : second\n",
    "drs/dt = (rsinf-rs)/tau_rs : 1\n",
    "rsinf = 1.0*(1.0+exp((v-theta_rs)/sigma_rs))**(-1) : 1\n",
    "tau_rs = ms*exp((v+(289.71*mV))/(33.3*mV)) : second\n",
    "'''\n",
    "N = b2.NeuronGroup(1, eqs, method = \"rk4\")\n",
    "N.V = 0.5\n",
    "# b2.run(10*b2.msecond)"
   ]
  },
  {
   "cell_type": "code",
   "execution_count": null,
   "metadata": {},
   "outputs": [],
   "source": []
  }
 ],
 "metadata": {
  "kernelspec": {
   "display_name": "Python 3 (ipykernel)",
   "language": "python",
   "name": "python3"
  },
  "language_info": {
   "codemirror_mode": {
    "name": "ipython",
    "version": 3
   },
   "file_extension": ".py",
   "mimetype": "text/x-python",
   "name": "python",
   "nbconvert_exporter": "python",
   "pygments_lexer": "ipython3",
   "version": "3.10.2"
  },
  "vscode": {
   "interpreter": {
    "hash": "a9cff5a362bc38ef45d817ae74b1af54d6a076e3d773891282bce078b815ba34"
   }
  }
 },
 "nbformat": 4,
 "nbformat_minor": 2
}
