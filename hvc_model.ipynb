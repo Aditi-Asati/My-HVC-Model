{
 "cells": [
  {
   "cell_type": "code",
   "execution_count": 59,
   "metadata": {},
   "outputs": [],
   "source": [
    "%matplotlib inline\n",
    "import matplotlib.pyplot as plt\n",
    "import hvc\n",
    "from brian2 import *\n",
    "import numpy as np\n",
    "import pandas as pd"
   ]
  },
  {
   "cell_type": "markdown",
   "metadata": {},
   "source": [
    "# Replicated from *Daou et al*.(2013)"
   ]
  },
  {
   "cell_type": "code",
   "execution_count": 60,
   "metadata": {},
   "outputs": [],
   "source": [
    "start_scope()"
   ]
  },
  {
   "cell_type": "code",
   "execution_count": 61,
   "metadata": {},
   "outputs": [],
   "source": [
    "#time parameters:\n",
    "delta = 1e-4 #in sec\n",
    "duration = 1 # in sec"
   ]
  },
  {
   "cell_type": "code",
   "execution_count": 62,
   "metadata": {},
   "outputs": [],
   "source": [
    "time_vec = np.arange(0,duration,delta)\n",
    "df = pd.DataFrame({'t':time_vec})"
   ]
  },
  {
   "cell_type": "code",
   "execution_count": 63,
   "metadata": {},
   "outputs": [],
   "source": [
    "mag = 0.2 # in nA"
   ]
  },
  {
   "cell_type": "code",
   "execution_count": 64,
   "metadata": {},
   "outputs": [
    {
     "ename": "SyntaxError",
     "evalue": "Unknown syntax: Attribute (<string>)",
     "output_type": "error",
     "traceback": [
      "Traceback \u001b[1;36m(most recent call last)\u001b[0m:\n",
      "\u001b[1;36m  File \u001b[1;32mc:\\Users\\HP\\AppData\\Local\\Programs\\Python\\Python310\\lib\\site-packages\\brian2\\parsing\\rendering.py:78\u001b[1;36m in \u001b[1;35mrender_node\u001b[1;36m\u001b[0m\n\u001b[1;33m    return getattr(self, methname)(node)\u001b[0m\n",
      "\u001b[1;31mAttributeError\u001b[0m\u001b[1;31m:\u001b[0m 'SympyNodeRenderer' object has no attribute 'render_Attribute'\n",
      "\nDuring handling of the above exception, another exception occurred:\n",
      "Traceback \u001b[1;36m(most recent call last)\u001b[0m:\n",
      "  File \u001b[0;32mc:\\Users\\HP\\AppData\\Local\\Programs\\Python\\Python310\\lib\\site-packages\\IPython\\core\\interactiveshell.py:3398\u001b[0m in \u001b[0;35mrun_code\u001b[0m\n    exec(code_obj, self.user_global_ns, self.user_ns)\n",
      "  Input \u001b[0;32mIn [64]\u001b[0m in \u001b[0;35m<cell line: 59>\u001b[0m\n    N = NeuronGroup(1, eqs)\n",
      "  File \u001b[0;32mc:\\Users\\HP\\AppData\\Local\\Programs\\Python\\Python310\\lib\\site-packages\\brian2\\groups\\neurongroup.py:499\u001b[0m in \u001b[0;35m__init__\u001b[0m\n    model = Equations(model)\n",
      "  File \u001b[0;32mc:\\Users\\HP\\AppData\\Local\\Programs\\Python\\Python310\\lib\\site-packages\\brian2\\equations\\equations.py:554\u001b[0m in \u001b[0;35m__init__\u001b[0m\n    self._equations = parse_string_equations(eqns)\n",
      "  File \u001b[0;32mc:\\Users\\HP\\AppData\\Local\\Programs\\Python\\Python310\\lib\\site-packages\\brian2\\utils\\caching.py:101\u001b[0m in \u001b[0;35mcached_func\u001b[0m\n    func._cache[cache_key] = func(*args, **kwds)\n",
      "  File \u001b[0;32mc:\\Users\\HP\\AppData\\Local\\Programs\\Python\\Python310\\lib\\site-packages\\brian2\\equations\\equations.py:366\u001b[0m in \u001b[0;35mparse_string_equations\u001b[0m\n    expression = Expression(p.sub(' ', expression))\n",
      "  File \u001b[0;32mc:\\Users\\HP\\AppData\\Local\\Programs\\Python\\Python310\\lib\\site-packages\\brian2\\equations\\codestrings.py:107\u001b[0m in \u001b[0;35m__init__\u001b[0m\n    str_to_sympy(code)\n",
      "  File \u001b[0;32mc:\\Users\\HP\\AppData\\Local\\Programs\\Python\\Python310\\lib\\site-packages\\brian2\\parsing\\sympytools.py:76\u001b[0m in \u001b[0;35mstr_to_sympy\u001b[0m\n    return _str_to_sympy(expr)\n",
      "  File \u001b[0;32mc:\\Users\\HP\\AppData\\Local\\Programs\\Python\\Python310\\lib\\site-packages\\brian2\\utils\\caching.py:101\u001b[0m in \u001b[0;35mcached_func\u001b[0m\n    func._cache[cache_key] = func(*args, **kwds)\n",
      "  File \u001b[0;32mc:\\Users\\HP\\AppData\\Local\\Programs\\Python\\Python310\\lib\\site-packages\\brian2\\parsing\\sympytools.py:82\u001b[0m in \u001b[0;35m_str_to_sympy\u001b[0m\n    s_expr = SympyNodeRenderer().render_expr(expr)\n",
      "  File \u001b[0;32mc:\\Users\\HP\\AppData\\Local\\Programs\\Python\\Python310\\lib\\site-packages\\brian2\\parsing\\rendering.py:66\u001b[0m in \u001b[0;35mrender_expr\u001b[0m\n    return self.render_node(node.body)\n",
      "  File \u001b[0;32mc:\\Users\\HP\\AppData\\Local\\Programs\\Python\\Python310\\lib\\site-packages\\brian2\\parsing\\rendering.py:78\u001b[0m in \u001b[0;35mrender_node\u001b[0m\n    return getattr(self, methname)(node)\n",
      "  File \u001b[0;32mc:\\Users\\HP\\AppData\\Local\\Programs\\Python\\Python310\\lib\\site-packages\\brian2\\parsing\\rendering.py:286\u001b[0m in \u001b[0;35mrender_BinOp\u001b[0m\n    return op(self.render_node(node.left), self.render_node(node.right))\n",
      "  File \u001b[0;32mc:\\Users\\HP\\AppData\\Local\\Programs\\Python\\Python310\\lib\\site-packages\\brian2\\parsing\\rendering.py:78\u001b[0m in \u001b[0;35mrender_node\u001b[0m\n    return getattr(self, methname)(node)\n",
      "  File \u001b[0;32mc:\\Users\\HP\\AppData\\Local\\Programs\\Python\\Python310\\lib\\site-packages\\brian2\\parsing\\rendering.py:238\u001b[0m in \u001b[0;35mrender_Call\u001b[0m\n    return self.render_func(node.func)(*(self.render_node(arg)\n",
      "  File \u001b[0;32mc:\\Users\\HP\\AppData\\Local\\Programs\\Python\\Python310\\lib\\site-packages\\brian2\\parsing\\rendering.py:238\u001b[0m in \u001b[0;35m<genexpr>\u001b[0m\n    return self.render_func(node.func)(*(self.render_node(arg)\n",
      "  File \u001b[0;32mc:\\Users\\HP\\AppData\\Local\\Programs\\Python\\Python310\\lib\\site-packages\\brian2\\parsing\\rendering.py:78\u001b[0m in \u001b[0;35mrender_node\u001b[0m\n    return getattr(self, methname)(node)\n",
      "  File \u001b[0;32mc:\\Users\\HP\\AppData\\Local\\Programs\\Python\\Python310\\lib\\site-packages\\brian2\\parsing\\rendering.py:273\u001b[0m in \u001b[0;35mrender_BinOp\u001b[0m\n    return op(self.render_node(node.left),\n",
      "  File \u001b[0;32mc:\\Users\\HP\\AppData\\Local\\Programs\\Python\\Python310\\lib\\site-packages\\brian2\\parsing\\rendering.py:78\u001b[0m in \u001b[0;35mrender_node\u001b[0m\n    return getattr(self, methname)(node)\n",
      "  File \u001b[0;32mc:\\Users\\HP\\AppData\\Local\\Programs\\Python\\Python310\\lib\\site-packages\\brian2\\parsing\\rendering.py:286\u001b[0m in \u001b[0;35mrender_BinOp\u001b[0m\n    return op(self.render_node(node.left), self.render_node(node.right))\n",
      "  File \u001b[0;32mc:\\Users\\HP\\AppData\\Local\\Programs\\Python\\Python310\\lib\\site-packages\\brian2\\parsing\\rendering.py:78\u001b[0m in \u001b[0;35mrender_node\u001b[0m\n    return getattr(self, methname)(node)\n",
      "  File \u001b[0;32mc:\\Users\\HP\\AppData\\Local\\Programs\\Python\\Python310\\lib\\site-packages\\brian2\\parsing\\rendering.py:286\u001b[0m in \u001b[0;35mrender_BinOp\u001b[0m\n    return op(self.render_node(node.left), self.render_node(node.right))\n",
      "\u001b[1;36m  File \u001b[1;32mc:\\Users\\HP\\AppData\\Local\\Programs\\Python\\Python310\\lib\\site-packages\\brian2\\parsing\\rendering.py:80\u001b[1;36m in \u001b[1;35mrender_node\u001b[1;36m\u001b[0m\n\u001b[1;33m    raise SyntaxError(f\"Unknown syntax: {nodename}\")\u001b[0m\n",
      "\u001b[1;36m  File \u001b[1;32m<string>\u001b[1;36m\u001b[0m\n\u001b[1;31mSyntaxError\u001b[0m\u001b[1;31m:\u001b[0m Unknown syntax: Attribute\n"
     ]
    }
   ],
   "source": [
    "# The model\n",
    "eqs = '''\n",
    "Iapp = curr_in : ampere\n",
    "\n",
    "dV/dt = (-Il -I_K -I_Na -I_Cal -I_CaT -I_A -I_SK -I_KNa -Ih -I_Nap +Iapp)/C_m : volt\n",
    "\n",
    "Il = g_l*(V-Vl) : ampere\n",
    "\n",
    "I_K = g_K*(n**4)*(V-Vk) : ampere\n",
    "ninf = (1.0+exp((V-theta_n)/sigma_n))**(-1) : 1\n",
    "tau_n = tau_bar_n*(cosh((V - theta_n)/(2*sigma_n)))**(-1) : second\n",
    "dn/dt = (ninf - n)/(tau_n) : 1\n",
    "\n",
    "I_Na = g_Na*(minf**3)*h*(V-VNa) : ampere\n",
    "alpha_h = 0.128*exp((V+(15.0*b2.mV))/(-18.0*b2.mV)) : 1\n",
    "beta_h = 4.0/(1.0+exp((V+(27.0*b2.mV))/(-5.0*b2.mV))) : 1\n",
    "hinf = alpha_h/(alpha_h+beta_h) : 1\n",
    "minf = (1.0+exp((V-theta_m)/sigma_m))**(-1) : 1\n",
    "dh/dt = (hinf - h)/tau_h : 1\n",
    "\n",
    "I_Nap = g_Nap*mpinf*hp*(V-VNa) : ampere\n",
    "mpinf = (1.0+exp((V-theta_mp)/sigma_mp))**(-1) : 1\n",
    "hpinf = (1.0+exp((V-theta_hp)/sigma_hp))**(-1) : 1\n",
    "dhp/dt = (hpinf - hp)/tau_hp : 1\n",
    "tau_hp = tau_bar_hp*(cosh((V-theta_hp)/(2.0*sigma_hp)))**(-1) : second\n",
    "\n",
    "I_A = g_A*ainf*e_gate*(V-Vk) : ampere\n",
    "ainf = (1.0+exp((V-theta_a)/sigma_a))**(-1) : 1\n",
    "einf = (1.0+exp((V-theta_e)/sigma_e))**(-1) : 1\n",
    "de_gate/dt = (einf - e_gate)/tau_e : 1\n",
    "\n",
    "I_Cal = g_Cal*V*(sinf**2)*(Ca_ex/(1.0-exp(2.0*V*F/(R*T))))/b2.mmolar : ampere\n",
    "sinf = (1.0+exp((V-theta_s)/sigma_s))**(-1) : \n",
    "I_CaT = g_CaT*V*(atinf**3)*(btinf**3)*(Ca_ex/(1.0-exp(2*F*V/(R*T))))/b2.mmolar : ampere\n",
    "atinf = (1.0+exp((V-theta_at)/sigma_at))**(-1) : 1\n",
    "btinf = (1.0+exp((rt-theta_b)/sigma_b))**(-1) - (1.0+exp((-theta_b)/sigma_b))**(-1) : 1\n",
    "rtinf = (1.0*mV)*(1.0+exp((V-theta_rt)/sigma_rt))**(-1) : volt\n",
    "drt/dt = (rtinf - rt)/tau_rt : 1\n",
    "tau_rt = tau_r0 + (tau_r1*(1+exp((V-theta_rrt)/sigma_rrt))**(-1)) : second\n",
    "\n",
    "I_SK = g_SK*kinf*(V-Vk) : ampere\n",
    "kinf = (ca_in**2)/((ca_in**2) + (k_s**2)) : 1\n",
    "dca_in/dt = -f*(epsilon*(I_Cal+I_CaT) + k_Ca*(ca_in - b_Ca)) : mmolar\n",
    "\n",
    "I_KNa = g_KNa*winf*(V - Vk) : ampere\n",
    "winf = 0.37*((1 + (38.7/nai)**(3.5))**(-1)) : 1\n",
    "dnai/dt = -(alpha_Na)*(I_Na + I_NaP) - 3*R_pump*(phi_Nai - phi_Naeq) : mmolar\n",
    "phi_Nai = (nai)**3/((nai)**3 + (K_p)**3) : 1\n",
    "phi_Naeq = (Naeq)**3/((Naeq)**3 + (K_p)**3) : 1\n",
    "\n",
    "Ih = g_h*((k_r*rf) + ((1-k_r)*rs))*(V-Vh) : ampere\n",
    "drf/dt = (rfinf-rf)/tau_rf : 1\n",
    "rfinf = (1.0+exp((V-theta_rf)/sigma_rf))**(-1) : 1\n",
    "tau_rf = (p_rf*ms)*(((-7.4/mV)*(V+(70.0*mV))/(exp((V+(70.0*mV))/(-0.8*mV))-1))+(65.0*exp((V+(56.0*mV))/(-23.0*mV))))**(-1) : second\n",
    "drs/dt = (rsinf-rs)/tau_rs : 1\n",
    "rsinf = 1.0*(1.0+exp((theta_rs-V)/sigma_rs))**(-1) : 1\n",
    "\n",
    "'''\n"
   ]
  },
  {
   "cell_type": "code",
   "execution_count": null,
   "metadata": {},
   "outputs": [
    {
     "ename": "SyntaxError",
     "evalue": "Unknown syntax: Attribute (<string>)",
     "output_type": "error",
     "traceback": [
      "Traceback \u001b[1;36m(most recent call last)\u001b[0m:\n",
      "\u001b[1;36m  File \u001b[1;32mc:\\Users\\HP\\AppData\\Local\\Programs\\Python\\Python310\\lib\\site-packages\\brian2\\parsing\\rendering.py:78\u001b[1;36m in \u001b[1;35mrender_node\u001b[1;36m\u001b[0m\n\u001b[1;33m    return getattr(self, methname)(node)\u001b[0m\n",
      "\u001b[1;31mAttributeError\u001b[0m\u001b[1;31m:\u001b[0m 'SympyNodeRenderer' object has no attribute 'render_Attribute'\n",
      "\nDuring handling of the above exception, another exception occurred:\n",
      "Traceback \u001b[1;36m(most recent call last)\u001b[0m:\n",
      "  File \u001b[0;32mc:\\Users\\HP\\AppData\\Local\\Programs\\Python\\Python310\\lib\\site-packages\\IPython\\core\\interactiveshell.py:3398\u001b[0m in \u001b[0;35mrun_code\u001b[0m\n    exec(code_obj, self.user_global_ns, self.user_ns)\n",
      "  Input \u001b[0;32mIn [58]\u001b[0m in \u001b[0;35m<cell line: 1>\u001b[0m\n    N = NeuronGroup(1, eqs)\n",
      "  File \u001b[0;32mc:\\Users\\HP\\AppData\\Local\\Programs\\Python\\Python310\\lib\\site-packages\\brian2\\groups\\neurongroup.py:499\u001b[0m in \u001b[0;35m__init__\u001b[0m\n    model = Equations(model)\n",
      "  File \u001b[0;32mc:\\Users\\HP\\AppData\\Local\\Programs\\Python\\Python310\\lib\\site-packages\\brian2\\equations\\equations.py:554\u001b[0m in \u001b[0;35m__init__\u001b[0m\n    self._equations = parse_string_equations(eqns)\n",
      "  File \u001b[0;32mc:\\Users\\HP\\AppData\\Local\\Programs\\Python\\Python310\\lib\\site-packages\\brian2\\utils\\caching.py:101\u001b[0m in \u001b[0;35mcached_func\u001b[0m\n    func._cache[cache_key] = func(*args, **kwds)\n",
      "  File \u001b[0;32mc:\\Users\\HP\\AppData\\Local\\Programs\\Python\\Python310\\lib\\site-packages\\brian2\\equations\\equations.py:366\u001b[0m in \u001b[0;35mparse_string_equations\u001b[0m\n    expression = Expression(p.sub(' ', expression))\n",
      "  File \u001b[0;32mc:\\Users\\HP\\AppData\\Local\\Programs\\Python\\Python310\\lib\\site-packages\\brian2\\equations\\codestrings.py:107\u001b[0m in \u001b[0;35m__init__\u001b[0m\n    str_to_sympy(code)\n",
      "  File \u001b[0;32mc:\\Users\\HP\\AppData\\Local\\Programs\\Python\\Python310\\lib\\site-packages\\brian2\\parsing\\sympytools.py:76\u001b[0m in \u001b[0;35mstr_to_sympy\u001b[0m\n    return _str_to_sympy(expr)\n",
      "  File \u001b[0;32mc:\\Users\\HP\\AppData\\Local\\Programs\\Python\\Python310\\lib\\site-packages\\brian2\\utils\\caching.py:101\u001b[0m in \u001b[0;35mcached_func\u001b[0m\n    func._cache[cache_key] = func(*args, **kwds)\n",
      "  File \u001b[0;32mc:\\Users\\HP\\AppData\\Local\\Programs\\Python\\Python310\\lib\\site-packages\\brian2\\parsing\\sympytools.py:82\u001b[0m in \u001b[0;35m_str_to_sympy\u001b[0m\n    s_expr = SympyNodeRenderer().render_expr(expr)\n",
      "  File \u001b[0;32mc:\\Users\\HP\\AppData\\Local\\Programs\\Python\\Python310\\lib\\site-packages\\brian2\\parsing\\rendering.py:66\u001b[0m in \u001b[0;35mrender_expr\u001b[0m\n    return self.render_node(node.body)\n",
      "  File \u001b[0;32mc:\\Users\\HP\\AppData\\Local\\Programs\\Python\\Python310\\lib\\site-packages\\brian2\\parsing\\rendering.py:78\u001b[0m in \u001b[0;35mrender_node\u001b[0m\n    return getattr(self, methname)(node)\n",
      "  File \u001b[0;32mc:\\Users\\HP\\AppData\\Local\\Programs\\Python\\Python310\\lib\\site-packages\\brian2\\parsing\\rendering.py:286\u001b[0m in \u001b[0;35mrender_BinOp\u001b[0m\n    return op(self.render_node(node.left), self.render_node(node.right))\n",
      "  File \u001b[0;32mc:\\Users\\HP\\AppData\\Local\\Programs\\Python\\Python310\\lib\\site-packages\\brian2\\parsing\\rendering.py:78\u001b[0m in \u001b[0;35mrender_node\u001b[0m\n    return getattr(self, methname)(node)\n",
      "  File \u001b[0;32mc:\\Users\\HP\\AppData\\Local\\Programs\\Python\\Python310\\lib\\site-packages\\brian2\\parsing\\rendering.py:238\u001b[0m in \u001b[0;35mrender_Call\u001b[0m\n    return self.render_func(node.func)(*(self.render_node(arg)\n",
      "  File \u001b[0;32mc:\\Users\\HP\\AppData\\Local\\Programs\\Python\\Python310\\lib\\site-packages\\brian2\\parsing\\rendering.py:238\u001b[0m in \u001b[0;35m<genexpr>\u001b[0m\n    return self.render_func(node.func)(*(self.render_node(arg)\n",
      "  File \u001b[0;32mc:\\Users\\HP\\AppData\\Local\\Programs\\Python\\Python310\\lib\\site-packages\\brian2\\parsing\\rendering.py:78\u001b[0m in \u001b[0;35mrender_node\u001b[0m\n    return getattr(self, methname)(node)\n",
      "  File \u001b[0;32mc:\\Users\\HP\\AppData\\Local\\Programs\\Python\\Python310\\lib\\site-packages\\brian2\\parsing\\rendering.py:273\u001b[0m in \u001b[0;35mrender_BinOp\u001b[0m\n    return op(self.render_node(node.left),\n",
      "  File \u001b[0;32mc:\\Users\\HP\\AppData\\Local\\Programs\\Python\\Python310\\lib\\site-packages\\brian2\\parsing\\rendering.py:78\u001b[0m in \u001b[0;35mrender_node\u001b[0m\n    return getattr(self, methname)(node)\n",
      "  File \u001b[0;32mc:\\Users\\HP\\AppData\\Local\\Programs\\Python\\Python310\\lib\\site-packages\\brian2\\parsing\\rendering.py:286\u001b[0m in \u001b[0;35mrender_BinOp\u001b[0m\n    return op(self.render_node(node.left), self.render_node(node.right))\n",
      "  File \u001b[0;32mc:\\Users\\HP\\AppData\\Local\\Programs\\Python\\Python310\\lib\\site-packages\\brian2\\parsing\\rendering.py:78\u001b[0m in \u001b[0;35mrender_node\u001b[0m\n    return getattr(self, methname)(node)\n",
      "  File \u001b[0;32mc:\\Users\\HP\\AppData\\Local\\Programs\\Python\\Python310\\lib\\site-packages\\brian2\\parsing\\rendering.py:286\u001b[0m in \u001b[0;35mrender_BinOp\u001b[0m\n    return op(self.render_node(node.left), self.render_node(node.right))\n",
      "\u001b[1;36m  File \u001b[1;32mc:\\Users\\HP\\AppData\\Local\\Programs\\Python\\Python310\\lib\\site-packages\\brian2\\parsing\\rendering.py:80\u001b[1;36m in \u001b[1;35mrender_node\u001b[1;36m\u001b[0m\n\u001b[1;33m    raise SyntaxError(f\"Unknown syntax: {nodename}\")\u001b[0m\n",
      "\u001b[1;36m  File \u001b[1;32m<string>\u001b[1;36m\u001b[0m\n\u001b[1;31mSyntaxError\u001b[0m\u001b[1;31m:\u001b[0m Unknown syntax: Attribute\n"
     ]
    }
   ],
   "source": [
    "N = NeuronGroup(1, eqs)\n",
    "N = hvc.HVCX_Param()\n",
    "N.V = 0.5*volt\n",
    "N.Ca_ex = 2.5*mmolar\n",
    "N.F = 96_485*(coulomb/mole)\n",
    "N.R = 8.314*(joule/(mole*kelvin))\n",
    "N.T = 298*kelvin\n",
    "N.alpha_Na = 0.0001*mmolar*((cmeter)**2)*((msecond*uamp)**(-1))\n",
    "N.Naeq = 8.0*mmolar\n",
    "\n",
    "\n",
    "current = np.array(hvc.stimuli(df,mag,stim = 'step',dur=0.03,st=1.5,base = 0.1))\n",
    "\n",
    "#Current input\n",
    "curr_in = TimedArray(current*nA, dt=delta*second)\n",
    "M = StateMonitor(N, 'V', record= True)\n",
    "\n",
    "run(duration*ms)\n",
    "\n"
   ]
  }
 ],
 "metadata": {
  "kernelspec": {
   "display_name": "Python 3 (ipykernel)",
   "language": "python",
   "name": "python3"
  },
  "language_info": {
   "codemirror_mode": {
    "name": "ipython",
    "version": 3
   },
   "file_extension": ".py",
   "mimetype": "text/x-python",
   "name": "python",
   "nbconvert_exporter": "python",
   "pygments_lexer": "ipython3",
   "version": "3.10.2"
  },
  "vscode": {
   "interpreter": {
    "hash": "a9cff5a362bc38ef45d817ae74b1af54d6a076e3d773891282bce078b815ba34"
   }
  }
 },
 "nbformat": 4,
 "nbformat_minor": 2
}
