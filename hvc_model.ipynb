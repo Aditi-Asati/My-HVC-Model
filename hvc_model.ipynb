{
 "cells": [
  {
   "cell_type": "code",
   "execution_count": 1,
   "metadata": {},
   "outputs": [],
   "source": [
    "%matplotlib inline\n",
    "import matplotlib.pyplot as plt\n",
    "import hvc\n",
    "from brian2 import *\n",
    "import numpy as np\n",
    "import pandas as pd"
   ]
  },
  {
   "cell_type": "markdown",
   "metadata": {},
   "source": [
    "# Replicated from *Daou et al*.(2013)"
   ]
  },
  {
   "cell_type": "code",
   "execution_count": 2,
   "metadata": {},
   "outputs": [],
   "source": [
    "start_scope()"
   ]
  },
  {
   "cell_type": "code",
   "execution_count": 3,
   "metadata": {},
   "outputs": [],
   "source": [
    "#time parameters:\n",
    "delta = 1e-5 #in sec\n",
    "duration = 1 # in sec"
   ]
  },
  {
   "cell_type": "code",
   "execution_count": 4,
   "metadata": {},
   "outputs": [],
   "source": [
    "time_vec = np.arange(0,duration,delta)\n",
    "df = pd.DataFrame({'t':time_vec})"
   ]
  },
  {
   "cell_type": "code",
   "execution_count": 5,
   "metadata": {},
   "outputs": [],
   "source": [
    "mag = 0.15 # in nA"
   ]
  },
  {
   "cell_type": "code",
   "execution_count": 6,
   "metadata": {},
   "outputs": [],
   "source": [
    "# The model\n",
    "eqs = '''\n",
    "Iapp = curr_in(t) : ampere\n",
    "\n",
    "dV/dt = (-Il -I_K -I_Na -I_Nap -I_A -I_Cal -I_CaT -I_SK -I_KNa +Iapp)/C_m : volt\n",
    "\n",
    "#check Ih (something odd about units?)\n",
    "\n",
    "Il = g_l*(V-Vl) : ampere\n",
    "\n",
    "I_K = g_K*(n**4)*(V-Vk) : ampere\n",
    "ninf = (1.0+exp((V-theta_n)/sigma_n))**(-1) : 1\n",
    "tau_n = tau_bar_n*(cosh((V - theta_n)/(2*sigma_n)))**(-1) : second\n",
    "dn/dt = (ninf - n)/(tau_n) : 1\n",
    "\n",
    "I_Na = g_Na*(minf**3)*h*(V-VNa) : ampere\n",
    "alpha_h = 0.128*exp((V+(15.0*mV))/(-18.0*mV)) : 1\n",
    "beta_h = 4.0/(1.0+exp((V+(27.0*mV))/(-5.0*mV))) : 1\n",
    "hinf = alpha_h/(alpha_h+beta_h) : 1\n",
    "minf = (1.0+exp((V-theta_m)/sigma_m))**(-1) : 1\n",
    "dh/dt = (hinf - h)/tau_h : 1\n",
    "\n",
    "I_Nap = g_Nap*mpinf*hp*(V-VNa) : ampere\n",
    "mpinf = (1.0+exp((V-theta_mp)/sigma_mp))**(-1) : 1\n",
    "hpinf = (1.0+exp((V-theta_hp)/sigma_hp))**(-1) : 1\n",
    "dhp/dt = (hpinf - hp)/tau_hp : 1\n",
    "tau_hp = tau_bar_hp*(cosh((V-theta_hp)/(2.0*sigma_hp)))**(-1) : second\n",
    "\n",
    "I_A = g_A*ainf*e_gate*(V-Vk) : ampere\n",
    "ainf = (1.0+exp((V-theta_a)/sigma_a))**(-1) : 1\n",
    "einf = (1.0+exp((V-theta_e)/sigma_e))**(-1) : 1\n",
    "de_gate/dt = (einf - e_gate)/tau_e : 1\n",
    "\n",
    "#normalise by mmolar instead of \"b2.mV\"\n",
    "I_Cal = g_Cal*V*(sinf**2)*(Ca_ex/(1.0-exp(2.0*V*F/(R*T))))/mmolar : ampere\n",
    "sinf = (1.0+exp((V-theta_s)/sigma_s))**(-1) : 1\n",
    "\n",
    "#normalise by mmolar instead of \"b2.mV\"\n",
    "I_CaT = g_CaT*V*(atinf**3)*(btinf**3)*(Ca_ex/(1.0-exp(2*F*V/(R*T))))/mmolar : ampere\n",
    "atinf = (1.0+exp((V-theta_at)/sigma_at))**(-1) : 1\n",
    "btinf = (1.0+exp((rt-theta_b)/sigma_b))**(-1) - (1.0+exp((-theta_b)/sigma_b))**(-1) : 1\n",
    "rtinf = (1.0*mV)*(1.0+exp((V-theta_rt)/sigma_rt))**(-1) : volt\n",
    "drt/dt = (rtinf - rt)/tau_rt : volt\n",
    "tau_rt = tau_r0 + (tau_r1*(1+exp((V-theta_rrt)/sigma_rrt))**(-1)) : second\n",
    "\n",
    "I_SK = g_SK*kinf*(V-Vk) : ampere\n",
    "kinf = (ca_in**2)/((ca_in**2) + (k_s**2)) : 1\n",
    "dca_in/dt = -f*(epsilon*(I_Cal+I_CaT) + k_Ca*(ca_in - b_Ca)) : mmolar\n",
    "\n",
    "I_KNa = g_KNa*winf*(V - Vk) : ampere\n",
    "winf = 0.37*((1 + (38.7*mmolar/nai)**(3.5))**(-1)) : 1\n",
    "dnai/dt = -(alpha_Na)*(I_Na + I_Nap) - 3*R_pump*(phi_Nai - phi_Naeq) : mmolar\n",
    "phi_Nai = (nai)**3/((nai)**3 + (K_p)**3) : 1\n",
    "phi_Naeq = (Naeq)**3/((Naeq)**3 + (K_p)**3) : 1\n",
    "\n",
    "Ih = g_h*((k_r*rf) + ((1-k_r)*rs))*(V-Vh) : ampere\n",
    "drf/dt = (rfinf-rf)/tau_rf : 1\n",
    "rfinf = (1.0+exp((V-theta_rf)/sigma_rf))**(-1) : 1\n",
    "tau_rf = (p_rf*ms)*(((-7.4/mV)*(V+(70.0*mV))/(exp((V+(70.0*mV))/(-0.8*mV))-1))+(65.0*exp((V+(56.0*mV))/(-23.0*mV))))**(-1) : second\n",
    "drs/dt = (rsinf-rs)/tau_rs : 1\n",
    "rsinf = 1.0*(1.0+exp((theta_rs-V)/sigma_rs))**(-1) : 1\n",
    "\n",
    "'''"
   ]
  },
  {
   "cell_type": "code",
   "execution_count": 7,
   "metadata": {},
   "outputs": [],
   "source": [
    "#if you do \"N = hvc.HVCX_Params()\" you overwrite N, the NeuronGroup brian2 object with your own object and that serves no purpose\n",
    "params = hvc.HVCX_Params()"
   ]
  },
  {
   "cell_type": "code",
   "execution_count": 8,
   "metadata": {},
   "outputs": [],
   "source": [
    "#unfortunately brian2 requires variables to be defined globally, so using the HVC_Params() object you can define each variable\n",
    "#and not keep them as attributes of the object\n",
    "for key in params.__dict__:\n",
    "    globals()[key] = params.__dict__[key]\n",
    "\n",
    "#again, defining each variable globally instead of as an attribute\n",
    "Ca_ex = 2.5*mmolar\n",
    "F = 96_485*(coulomb/mole)\n",
    "R = 8.314*(joule/(mole*kelvin))\n",
    "T = 298*kelvin\n",
    "alpha_Na = 0.0001*mmolar*((msecond*uamp)**(-1))\n",
    "#modify alpha_Na to not have any normalisation by cm^2\n",
    "Naeq = 8.0*mmolar"
   ]
  },
  {
   "cell_type": "code",
   "execution_count": 9,
   "metadata": {},
   "outputs": [
    {
     "name": "stderr",
     "output_type": "stream",
     "text": [
      "In file included from /Users/loaner/Library/Caches/cython/brian_extensions/_cython_magic_df0b2c09a3dca94d741850385e88269a.cpp:30:\n",
      "In file included from /opt/anaconda3/include/python3.9/Python.h:25:\n",
      "/opt/anaconda3/bin/../include/c++/v1/stdio.h:107:15: fatal error: 'stdio.h' file not found\n",
      "#include_next <stdio.h>\n",
      "              ^~~~~~~~~\n",
      "1 error generated.\n",
      "WARNING    Cannot use Cython, a test compilation failed: command '/opt/anaconda3/bin/clang' failed with exit code 1 (CompileError) [brian2.codegen.runtime.cython_rt.cython_rt.failed_compile_test]\n",
      "INFO       Cannot use compiled code, falling back to the numpy code generation target. Note that this will likely be slower than using compiled code. Set the code generation to numpy manually to avoid this message:\n",
      "prefs.codegen.target = \"numpy\" [brian2.devices.device.codegen_fallback]\n",
      "WARNING    (string):85: RuntimeWarning: overflow encountered in exp\n",
      " [py.warnings]\n",
      "WARNING    (string):85: RuntimeWarning: divide by zero encountered in true_divide\n",
      " [py.warnings]\n",
      "WARNING    (string):86: RuntimeWarning: overflow encountered in exp\n",
      " [py.warnings]\n",
      "WARNING    (string):92: RuntimeWarning: divide by zero encountered in true_divide\n",
      " [py.warnings]\n",
      "WARNING    (string):95: RuntimeWarning: overflow encountered in exp\n",
      " [py.warnings]\n",
      "WARNING    (string):96: RuntimeWarning: overflow encountered in exp\n",
      " [py.warnings]\n",
      "WARNING    (string):102: RuntimeWarning: divide by zero encountered in true_divide\n",
      " [py.warnings]\n",
      "WARNING    (string):105: RuntimeWarning: overflow encountered in exp\n",
      " [py.warnings]\n",
      "WARNING    (string):106: RuntimeWarning: overflow encountered in exp\n",
      " [py.warnings]\n",
      "WARNING    (string):115: RuntimeWarning: overflow encountered in exp\n",
      " [py.warnings]\n",
      "WARNING    (string):116: RuntimeWarning: overflow encountered in exp\n",
      " [py.warnings]\n",
      "WARNING    (string):132: RuntimeWarning: invalid value encountered in add\n",
      " [py.warnings]\n",
      "WARNING    (string):95: RuntimeWarning: overflow encountered in square\n",
      " [py.warnings]\n",
      "WARNING    (string):96: RuntimeWarning: overflow encountered in square\n",
      " [py.warnings]\n",
      "WARNING    (string):105: RuntimeWarning: overflow encountered in square\n",
      " [py.warnings]\n",
      "WARNING    (string):106: RuntimeWarning: overflow encountered in square\n",
      " [py.warnings]\n",
      "WARNING    (string):115: RuntimeWarning: overflow encountered in square\n",
      " [py.warnings]\n",
      "WARNING    (string):116: RuntimeWarning: overflow encountered in square\n",
      " [py.warnings]\n",
      "WARNING    (string):85: RuntimeWarning: overflow encountered in square\n",
      " [py.warnings]\n",
      "WARNING    (string):86: RuntimeWarning: overflow encountered in square\n",
      " [py.warnings]\n",
      "WARNING    neurongroup's variable 'rf' has NaN, very large values, or encountered an error in numerical integration. This is usually a sign that an unstable or invalid integration method was chosen. [brian2.groups.group.invalid_values]\n"
     ]
    }
   ],
   "source": [
    "N = NeuronGroup(1,eqs,threshold='V > 0*mV',\n",
    "                        refractory='V > 0*mV',\n",
    "                        method='rk4')\n",
    "\n",
    "#only variables that have a time dependant component can be set as \n",
    "#attributes with some initial value, the rest have to be global variables\n",
    "N.V = -70*mV\n",
    "\n",
    "current = np.array(hvc.stimuli(df,mag,stim = 'step',dur=0.4,st=0.2,base = 0))\n",
    "\n",
    "#Current input\n",
    "curr_in = TimedArray(current*nA, dt=delta*second)\n",
    "M = StateMonitor(N, ['V'], record=True)\n",
    "\n",
    "run(duration*second)"
   ]
  },
  {
   "cell_type": "code",
   "execution_count": 10,
   "metadata": {},
   "outputs": [],
   "source": [
    "Time = M.t/msecond; Voltage = M.V[0]/mV"
   ]
  },
  {
   "cell_type": "code",
   "execution_count": 11,
   "metadata": {},
   "outputs": [
    {
     "data": {
      "image/png": "[encoded data removed]",
      "text/plain": [
       "<Figure size 576x360 with 1 Axes>"
      ]
     },
     "metadata": {
      "needs_background": "light"
     },
     "output_type": "display_data"
    }
   ],
   "source": [
    "plt.figure(figsize = (8,5))\n",
    "plt.plot(Time,Voltage)\n",
    "xlabel('$t\\ (ms)$')\n",
    "ylabel('$V\\ (mV)$');"
   ]
  },
  {
   "cell_type": "code",
   "execution_count": null,
   "metadata": {},
   "outputs": [],
   "source": []
  },
  {
   "cell_type": "code",
   "execution_count": null,
   "metadata": {},
   "outputs": [],
   "source": []
  }
 ],
 "metadata": {
  "kernelspec": {
   "display_name": "Python 3 (ipykernel)",
   "language": "python",
   "name": "python3"
  },
  "language_info": {
   "codemirror_mode": {
    "name": "ipython",
    "version": 3
   },
   "file_extension": ".py",
   "mimetype": "text/x-python",
   "name": "python",
   "nbconvert_exporter": "python",
   "pygments_lexer": "ipython3",
   "version": "3.9.7"
  },
  "vscode": {
   "interpreter": {
    "hash": "a9cff5a362bc38ef45d817ae74b1af54d6a076e3d773891282bce078b815ba34"
   }
  }
 },
 "nbformat": 4,
 "nbformat_minor": 4
}
